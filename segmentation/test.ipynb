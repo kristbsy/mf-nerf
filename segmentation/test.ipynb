{
 "cells": [
  {
   "cell_type": "code",
   "execution_count": 2,
   "metadata": {},
   "outputs": [
    {
     "name": "stdout",
     "output_type": "stream",
     "text": [
      "Requirement already satisfied: appnope==0.1.4 in /Users/tommyluu/Documents/projects/mf-nerf/venv/lib/python3.12/site-packages (from -r requirements-notebook.txt (line 1)) (0.1.4)\n",
      "Requirement already satisfied: asttokens==2.4.1 in /Users/tommyluu/Documents/projects/mf-nerf/venv/lib/python3.12/site-packages (from -r requirements-notebook.txt (line 2)) (2.4.1)\n",
      "Requirement already satisfied: certifi==2024.2.2 in /Users/tommyluu/Documents/projects/mf-nerf/venv/lib/python3.12/site-packages (from -r requirements-notebook.txt (line 3)) (2024.2.2)\n",
      "Requirement already satisfied: charset-normalizer==3.3.2 in /Users/tommyluu/Documents/projects/mf-nerf/venv/lib/python3.12/site-packages (from -r requirements-notebook.txt (line 4)) (3.3.2)\n",
      "Requirement already satisfied: comm==0.2.2 in /Users/tommyluu/Documents/projects/mf-nerf/venv/lib/python3.12/site-packages (from -r requirements-notebook.txt (line 5)) (0.2.2)\n",
      "Requirement already satisfied: contourpy==1.2.1 in /Users/tommyluu/Documents/projects/mf-nerf/venv/lib/python3.12/site-packages (from -r requirements-notebook.txt (line 6)) (1.2.1)\n",
      "Requirement already satisfied: cycler==0.12.1 in /Users/tommyluu/Documents/projects/mf-nerf/venv/lib/python3.12/site-packages (from -r requirements-notebook.txt (line 7)) (0.12.1)\n",
      "Requirement already satisfied: debugpy==1.8.1 in /Users/tommyluu/Documents/projects/mf-nerf/venv/lib/python3.12/site-packages (from -r requirements-notebook.txt (line 8)) (1.8.1)\n",
      "Requirement already satisfied: decorator==5.1.1 in /Users/tommyluu/Documents/projects/mf-nerf/venv/lib/python3.12/site-packages (from -r requirements-notebook.txt (line 9)) (5.1.1)\n",
      "Requirement already satisfied: executing==2.0.1 in /Users/tommyluu/Documents/projects/mf-nerf/venv/lib/python3.12/site-packages (from -r requirements-notebook.txt (line 10)) (2.0.1)\n",
      "Requirement already satisfied: filelock==3.13.4 in /Users/tommyluu/Documents/projects/mf-nerf/venv/lib/python3.12/site-packages (from -r requirements-notebook.txt (line 11)) (3.13.4)\n",
      "Requirement already satisfied: fonttools==4.51.0 in /Users/tommyluu/Documents/projects/mf-nerf/venv/lib/python3.12/site-packages (from -r requirements-notebook.txt (line 12)) (4.51.0)\n",
      "Requirement already satisfied: fsspec==2024.3.1 in /Users/tommyluu/Documents/projects/mf-nerf/venv/lib/python3.12/site-packages (from -r requirements-notebook.txt (line 13)) (2024.3.1)\n",
      "Requirement already satisfied: huggingface-hub==0.22.2 in /Users/tommyluu/Documents/projects/mf-nerf/venv/lib/python3.12/site-packages (from -r requirements-notebook.txt (line 14)) (0.22.2)\n",
      "Requirement already satisfied: idna==3.7 in /Users/tommyluu/Documents/projects/mf-nerf/venv/lib/python3.12/site-packages (from -r requirements-notebook.txt (line 15)) (3.7)\n",
      "Requirement already satisfied: ipykernel==6.29.4 in /Users/tommyluu/Documents/projects/mf-nerf/venv/lib/python3.12/site-packages (from -r requirements-notebook.txt (line 16)) (6.29.4)\n",
      "Requirement already satisfied: ipython==8.23.0 in /Users/tommyluu/Documents/projects/mf-nerf/venv/lib/python3.12/site-packages (from -r requirements-notebook.txt (line 17)) (8.23.0)\n",
      "Requirement already satisfied: jedi==0.19.1 in /Users/tommyluu/Documents/projects/mf-nerf/venv/lib/python3.12/site-packages (from -r requirements-notebook.txt (line 18)) (0.19.1)\n",
      "Requirement already satisfied: Jinja2==3.1.3 in /Users/tommyluu/Documents/projects/mf-nerf/venv/lib/python3.12/site-packages (from -r requirements-notebook.txt (line 19)) (3.1.3)\n",
      "Requirement already satisfied: jupyter_client==8.6.1 in /Users/tommyluu/Documents/projects/mf-nerf/venv/lib/python3.12/site-packages (from -r requirements-notebook.txt (line 20)) (8.6.1)\n",
      "Requirement already satisfied: jupyter_core==5.7.2 in /Users/tommyluu/Documents/projects/mf-nerf/venv/lib/python3.12/site-packages (from -r requirements-notebook.txt (line 21)) (5.7.2)\n",
      "Requirement already satisfied: kiwisolver==1.4.5 in /Users/tommyluu/Documents/projects/mf-nerf/venv/lib/python3.12/site-packages (from -r requirements-notebook.txt (line 22)) (1.4.5)\n",
      "Requirement already satisfied: MarkupSafe==2.1.5 in /Users/tommyluu/Documents/projects/mf-nerf/venv/lib/python3.12/site-packages (from -r requirements-notebook.txt (line 23)) (2.1.5)\n",
      "Requirement already satisfied: matplotlib==3.8.4 in /Users/tommyluu/Documents/projects/mf-nerf/venv/lib/python3.12/site-packages (from -r requirements-notebook.txt (line 24)) (3.8.4)\n",
      "Requirement already satisfied: matplotlib-inline==0.1.7 in /Users/tommyluu/Documents/projects/mf-nerf/venv/lib/python3.12/site-packages (from -r requirements-notebook.txt (line 25)) (0.1.7)\n",
      "Requirement already satisfied: mpmath==1.3.0 in /Users/tommyluu/Documents/projects/mf-nerf/venv/lib/python3.12/site-packages (from -r requirements-notebook.txt (line 26)) (1.3.0)\n",
      "Requirement already satisfied: nest-asyncio==1.6.0 in /Users/tommyluu/Documents/projects/mf-nerf/venv/lib/python3.12/site-packages (from -r requirements-notebook.txt (line 27)) (1.6.0)\n",
      "Requirement already satisfied: networkx==3.3 in /Users/tommyluu/Documents/projects/mf-nerf/venv/lib/python3.12/site-packages (from -r requirements-notebook.txt (line 28)) (3.3)\n",
      "Requirement already satisfied: numpy==1.26.4 in /Users/tommyluu/Documents/projects/mf-nerf/venv/lib/python3.12/site-packages (from -r requirements-notebook.txt (line 29)) (1.26.4)\n",
      "Requirement already satisfied: packaging==24.0 in /Users/tommyluu/Documents/projects/mf-nerf/venv/lib/python3.12/site-packages (from -r requirements-notebook.txt (line 30)) (24.0)\n",
      "Requirement already satisfied: parso==0.8.4 in /Users/tommyluu/Documents/projects/mf-nerf/venv/lib/python3.12/site-packages (from -r requirements-notebook.txt (line 31)) (0.8.4)\n",
      "Requirement already satisfied: pexpect==4.9.0 in /Users/tommyluu/Documents/projects/mf-nerf/venv/lib/python3.12/site-packages (from -r requirements-notebook.txt (line 32)) (4.9.0)\n",
      "Requirement already satisfied: pillow==10.3.0 in /Users/tommyluu/Documents/projects/mf-nerf/venv/lib/python3.12/site-packages (from -r requirements-notebook.txt (line 33)) (10.3.0)\n",
      "Requirement already satisfied: platformdirs==4.2.0 in /Users/tommyluu/Documents/projects/mf-nerf/venv/lib/python3.12/site-packages (from -r requirements-notebook.txt (line 34)) (4.2.0)\n",
      "Requirement already satisfied: prompt-toolkit==3.0.43 in /Users/tommyluu/Documents/projects/mf-nerf/venv/lib/python3.12/site-packages (from -r requirements-notebook.txt (line 35)) (3.0.43)\n",
      "Requirement already satisfied: psutil==5.9.8 in /Users/tommyluu/Documents/projects/mf-nerf/venv/lib/python3.12/site-packages (from -r requirements-notebook.txt (line 36)) (5.9.8)\n",
      "Requirement already satisfied: ptyprocess==0.7.0 in /Users/tommyluu/Documents/projects/mf-nerf/venv/lib/python3.12/site-packages (from -r requirements-notebook.txt (line 37)) (0.7.0)\n",
      "Requirement already satisfied: pure-eval==0.2.2 in /Users/tommyluu/Documents/projects/mf-nerf/venv/lib/python3.12/site-packages (from -r requirements-notebook.txt (line 38)) (0.2.2)\n",
      "Requirement already satisfied: Pygments==2.17.2 in /Users/tommyluu/Documents/projects/mf-nerf/venv/lib/python3.12/site-packages (from -r requirements-notebook.txt (line 39)) (2.17.2)\n",
      "Requirement already satisfied: pyparsing==3.1.2 in /Users/tommyluu/Documents/projects/mf-nerf/venv/lib/python3.12/site-packages (from -r requirements-notebook.txt (line 40)) (3.1.2)\n",
      "Requirement already satisfied: python-dateutil==2.9.0.post0 in /Users/tommyluu/Documents/projects/mf-nerf/venv/lib/python3.12/site-packages (from -r requirements-notebook.txt (line 41)) (2.9.0.post0)\n",
      "Requirement already satisfied: PyYAML==6.0.1 in /Users/tommyluu/Documents/projects/mf-nerf/venv/lib/python3.12/site-packages (from -r requirements-notebook.txt (line 42)) (6.0.1)\n",
      "Requirement already satisfied: pyzmq==26.0.0 in /Users/tommyluu/Documents/projects/mf-nerf/venv/lib/python3.12/site-packages (from -r requirements-notebook.txt (line 43)) (26.0.0)\n",
      "Requirement already satisfied: regex==2024.4.16 in /Users/tommyluu/Documents/projects/mf-nerf/venv/lib/python3.12/site-packages (from -r requirements-notebook.txt (line 44)) (2024.4.16)\n",
      "Requirement already satisfied: requests==2.31.0 in /Users/tommyluu/Documents/projects/mf-nerf/venv/lib/python3.12/site-packages (from -r requirements-notebook.txt (line 45)) (2.31.0)\n",
      "Requirement already satisfied: safetensors==0.4.3 in /Users/tommyluu/Documents/projects/mf-nerf/venv/lib/python3.12/site-packages (from -r requirements-notebook.txt (line 46)) (0.4.3)\n",
      "Requirement already satisfied: six==1.16.0 in /Users/tommyluu/Documents/projects/mf-nerf/venv/lib/python3.12/site-packages (from -r requirements-notebook.txt (line 47)) (1.16.0)\n",
      "Requirement already satisfied: stack-data==0.6.3 in /Users/tommyluu/Documents/projects/mf-nerf/venv/lib/python3.12/site-packages (from -r requirements-notebook.txt (line 48)) (0.6.3)\n",
      "Requirement already satisfied: sympy==1.12 in /Users/tommyluu/Documents/projects/mf-nerf/venv/lib/python3.12/site-packages (from -r requirements-notebook.txt (line 49)) (1.12)\n",
      "Requirement already satisfied: tokenizers==0.15.2 in /Users/tommyluu/Documents/projects/mf-nerf/venv/lib/python3.12/site-packages (from -r requirements-notebook.txt (line 50)) (0.15.2)\n",
      "Requirement already satisfied: torch==2.2.2 in /Users/tommyluu/Documents/projects/mf-nerf/venv/lib/python3.12/site-packages (from -r requirements-notebook.txt (line 51)) (2.2.2)\n",
      "Requirement already satisfied: torchaudio==2.2.2 in /Users/tommyluu/Documents/projects/mf-nerf/venv/lib/python3.12/site-packages (from -r requirements-notebook.txt (line 52)) (2.2.2)\n",
      "Requirement already satisfied: torchvision==0.17.2 in /Users/tommyluu/Documents/projects/mf-nerf/venv/lib/python3.12/site-packages (from -r requirements-notebook.txt (line 53)) (0.17.2)\n",
      "Requirement already satisfied: tornado==6.4 in /Users/tommyluu/Documents/projects/mf-nerf/venv/lib/python3.12/site-packages (from -r requirements-notebook.txt (line 54)) (6.4)\n",
      "Requirement already satisfied: tqdm==4.66.2 in /Users/tommyluu/Documents/projects/mf-nerf/venv/lib/python3.12/site-packages (from -r requirements-notebook.txt (line 55)) (4.66.2)\n",
      "Requirement already satisfied: traitlets==5.14.2 in /Users/tommyluu/Documents/projects/mf-nerf/venv/lib/python3.12/site-packages (from -r requirements-notebook.txt (line 56)) (5.14.2)\n",
      "Requirement already satisfied: transformers==4.39.3 in /Users/tommyluu/Documents/projects/mf-nerf/venv/lib/python3.12/site-packages (from -r requirements-notebook.txt (line 57)) (4.39.3)\n",
      "Requirement already satisfied: typing_extensions==4.11.0 in /Users/tommyluu/Documents/projects/mf-nerf/venv/lib/python3.12/site-packages (from -r requirements-notebook.txt (line 58)) (4.11.0)\n",
      "Requirement already satisfied: urllib3==2.2.1 in /Users/tommyluu/Documents/projects/mf-nerf/venv/lib/python3.12/site-packages (from -r requirements-notebook.txt (line 59)) (2.2.1)\n",
      "Requirement already satisfied: wcwidth==0.2.13 in /Users/tommyluu/Documents/projects/mf-nerf/venv/lib/python3.12/site-packages (from -r requirements-notebook.txt (line 60)) (0.2.13)\n",
      "Note: you may need to restart the kernel to use updated packages.\n"
     ]
    }
   ],
   "source": [
    "%pip install -r requirements-notebook.txt"
   ]
  },
  {
   "cell_type": "code",
   "execution_count": 3,
   "metadata": {},
   "outputs": [
    {
     "name": "stderr",
     "output_type": "stream",
     "text": [
      "/Users/tommyluu/Documents/projects/mf-nerf/venv/lib/python3.12/site-packages/transformers/models/segformer/feature_extraction_segformer.py:28: FutureWarning: The class SegformerFeatureExtractor is deprecated and will be removed in version 5 of Transformers. Please use SegformerImageProcessor instead.\n",
      "  warnings.warn(\n",
      "/Users/tommyluu/Documents/projects/mf-nerf/venv/lib/python3.12/site-packages/transformers/models/segformer/image_processing_segformer.py:103: FutureWarning: The `reduce_labels` parameter is deprecated and will be removed in a future version. Please use `do_reduce_labels` instead.\n",
      "  warnings.warn(\n"
     ]
    }
   ],
   "source": [
    "from transformers import pipeline, SegformerFeatureExtractor, SegformerForSemanticSegmentation\n",
    "from PIL import Image\n",
    "import requests\n",
    "import matplotlib.pyplot as plt\n",
    "import numpy as np\n",
    "\n",
    "# Load the model and feature extractor\n",
    "feature_extractor = SegformerFeatureExtractor.from_pretrained(\"nvidia/segformer-b1-finetuned-cityscapes-1024-1024\")\n",
    "model = SegformerForSemanticSegmentation.from_pretrained(\"nvidia/segformer-b1-finetuned-cityscapes-1024-1024\")\n"
   ]
  },
  {
   "cell_type": "code",
   "execution_count": 4,
   "metadata": {},
   "outputs": [],
   "source": [
    "# Define the class names and color palette from Cityscapes\n",
    "CLASSES = [\n",
    "    \"road\", \"sidewalk\", \"building\", \"wall\", \"fence\", \"pole\", \"traffic light\", \"traffic sign\", \n",
    "    \"vegetation\", \"terrain\", \"sky\", \"person\", \"rider\", \"car\", \"truck\", \"bus\", \"train\", \n",
    "    \"motorcycle\", \"bicycle\"\n",
    "]\n",
    "PALETTE = np.array([[128, 64, 128], [244, 35, 232], [70, 70, 70], [102, 102, 156], [190, 153, 153], \n",
    "                    [153, 153, 153], [250, 170, 30], [220, 220, 0], [107, 142, 35], [152, 251, 152], \n",
    "                    [70, 130, 180], [220, 20, 60], [255, 0, 0], [0, 0, 142], [0, 0, 70], [0, 60, 100], \n",
    "                    [0, 80, 100], [0, 0, 230], [119, 11, 32]])\n"
   ]
  },
  {
   "cell_type": "code",
   "execution_count": 2,
   "metadata": {},
   "outputs": [],
   "source": [
    "def load_image(image_path):\n",
    "    \"\"\"Load an image from a file or URL.\"\"\"\n",
    "    if image_path.startswith('http://') or image_path.startswith('https://'):\n",
    "        return Image.open(requests.get(image_path, stream=True).raw).convert('RGB')\n",
    "    else:\n",
    "        return Image.open(image_path).convert('RGB')"
   ]
  },
  {
   "cell_type": "code",
   "execution_count": 35,
   "metadata": {},
   "outputs": [],
   "source": [
    "def segment_image(image_path, output_path='output.png'):\n",
    "    \"\"\"Segment the image at the given path.\"\"\"\n",
    "    image = load_image(image_path)\n",
    "    original_size = image.size  # Store original image size\n",
    "\n",
    "    semantic_segmentation = pipeline(\"image-segmentation\", \"nvidia/segformer-b1-finetuned-cityscapes-1024-1024\")\n",
    "    results = semantic_segmentation(image)\n",
    "    mask = np.zeros((original_size[1], original_size[0]), dtype=bool)\n",
    "    for r in results:\n",
    "        if r['label'] in ['car', 'truck', 'bus', 'train', 'motorcycle', 'bicycle', 'person', 'rider']: # to remove\n",
    "            mask = mask | r['mask'] > 0\n",
    "\n",
    "    # Apply transparency based on segmentation\n",
    "    alpha_channel = np.where(mask, 0, 255).astype(np.uint8)  # Set alpha to 0 for masked areas\n",
    "    image_rgba = image.convert(\"RGBA\")\n",
    "    image_array = np.array(image_rgba)\n",
    "    image_array[:, :, 3] = alpha_channel  # Set alpha channel based on the mask\n",
    "    \n",
    "    # Save the modified image\n",
    "    result_image = Image.fromarray(image_array)\n",
    "    result_image.save(output_path)\n"
   ]
  },
  {
   "cell_type": "code",
   "execution_count": 36,
   "metadata": {},
   "outputs": [
    {
     "name": "stderr",
     "output_type": "stream",
     "text": [
      "Could not find image processor class in the image processor config or the model config. Loading based on pattern matching with the model's feature extractor configuration. Please open a PR/issue to update `preprocessor_config.json` to use `image_processor_type` instead of `feature_extractor_type`. This warning will be removed in v4.40.\n"
     ]
    }
   ],
   "source": [
    "from pathlib import Path\n",
    "\n",
    "input_folder = Path('./input')\n",
    "output_folder = Path('./output')\n",
    "output_folder.mkdir(exist_ok=True)\n",
    "for image_path in input_folder.glob('*.png'):\n",
    "    output_path = output_folder / image_path.name\n",
    "    segment_image(image_path.as_posix(), output_path.as_posix())\n",
    "\n"
   ]
  }
 ],
 "metadata": {
  "kernelspec": {
   "display_name": "venv",
   "language": "python",
   "name": "python3"
  },
  "language_info": {
   "codemirror_mode": {
    "name": "ipython",
    "version": 3
   },
   "file_extension": ".py",
   "mimetype": "text/x-python",
   "name": "python",
   "nbconvert_exporter": "python",
   "pygments_lexer": "ipython3",
   "version": "3.12.3"
  }
 },
 "nbformat": 4,
 "nbformat_minor": 2
}
