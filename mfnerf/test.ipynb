{
 "cells": [
  {
   "cell_type": "code",
   "execution_count": 6,
   "metadata": {},
   "outputs": [],
   "source": [
    "import torch\n",
    "def get_network_assignments(points: torch.Tensor):\n",
    "        \"\"\"Takes in a tensor of shape [N, 3] and returns a list with their assigned network with shape [N]\"\"\"\n",
    "        top_right_mask = (points[:, 0] > 0.0) & (points[:, 2] > 0.0)\n",
    "        top_left_mask = (points[:, 0] < 0.0) & (points[:, 2] > 0.0)\n",
    "        bottom_right_mask = (points[:, 0] > 0.0) & (points[:, 2] < 0.0)\n",
    "        assignments = bottom_right_mask * 1 + top_left_mask * 2 + top_right_mask * 3\n",
    "        return assignments"
   ]
  },
  {
   "cell_type": "code",
   "execution_count": 25,
   "metadata": {},
   "outputs": [
    {
     "name": "stdout",
     "output_type": "stream",
     "text": [
      "torch.Size([4, 4])\n",
      "torch.Size([4, 1])\n"
     ]
    },
    {
     "data": {
      "text/plain": [
       "tensor([[ 1.,  1.,  1.,  2.,  1.],\n",
       "        [-1.,  1.,  1.,  2.,  2.],\n",
       "        [-1., -1., -1.,  2.,  3.],\n",
       "        [ 1., -1., -1.,  2.,  4.]])"
      ]
     },
     "execution_count": 25,
     "metadata": {},
     "output_type": "execute_result"
    }
   ],
   "source": [
    "tensor = torch.tensor([\n",
    "    [1, 1, 1, 2],\n",
    "    [-1, 1, 1, 2],\n",
    "    [-1, -1, -1, 2],\n",
    "    [1, -1, -1, 2]\n",
    "], dtype=torch.float32)\n",
    "\n",
    "d = torch.tensor([1, 2, 3, 4], dtype=torch.float32).view(-1,1)\n",
    "print(tensor.shape)\n",
    "print(d.shape)\n",
    "catt = torch.cat([tensor, d], dim=1)\n",
    "catt"
   ]
  },
  {
   "cell_type": "code",
   "execution_count": null,
   "metadata": {},
   "outputs": [],
   "source": []
  },
  {
   "cell_type": "code",
   "execution_count": 9,
   "metadata": {},
   "outputs": [
    {
     "name": "stdout",
     "output_type": "stream",
     "text": [
      "torch.Size([100])\n"
     ]
    }
   ],
   "source": [
    "assignments = torch.randint(0,4,(100,))\n",
    "print(assignments.shape)"
   ]
  }
 ],
 "metadata": {
  "kernelspec": {
   "display_name": "nerfstudio",
   "language": "python",
   "name": "python3"
  },
  "language_info": {
   "codemirror_mode": {
    "name": "ipython",
    "version": 3
   },
   "file_extension": ".py",
   "mimetype": "text/x-python",
   "name": "python",
   "nbconvert_exporter": "python",
   "pygments_lexer": "ipython3",
   "version": "3.8.18"
  }
 },
 "nbformat": 4,
 "nbformat_minor": 2
}
